{
  "nbformat": 4,
  "nbformat_minor": 0,
  "metadata": {
    "colab": {
      "name": "Assignment_Mumbai.ipynb",
      "provenance": [],
      "collapsed_sections": []
    },
    "kernelspec": {
      "name": "python3",
      "display_name": "Python 3"
    }
  },
  "cells": [
    {
      "cell_type": "code",
      "metadata": {
        "id": "ijfZLp33m6Oo",
        "colab_type": "code",
        "colab": {}
      },
      "source": [
        "import os\n",
        "import pandas as pd\n",
        "import numpy as np\n",
        "import datetime\n",
        "import matplotlib as mpl\n",
        "import matplotlib.pyplot as plt\n",
        "%matplotlib inline\n",
        "plt.style.use('fivethirtyeight')\n",
        "\n",
        "#from pylab import rcParams\n",
        "#rcParams['figure.figsize'] = 10,7\n",
        "\n",
        "import warnings\n",
        "warnings.filterwarnings('ignore')\n",
        "\n",
        "import tensorflow as tf\n",
        "\n",
        "mpl.rcParams['figure.figsize'] = (8, 6)\n",
        "mpl.rcParams['axes.grid'] = False"
      ],
      "execution_count": 258,
      "outputs": []
    },
    {
      "cell_type": "code",
      "metadata": {
        "id": "JdrHkACvaB6v",
        "colab_type": "code",
        "colab": {}
      },
      "source": [
        "df=pd.read_csv(\"/content/parsa_load.csv\")"
      ],
      "execution_count": 259,
      "outputs": []
    },
    {
      "cell_type": "code",
      "metadata": {
        "id": "jzc5xqPuZZ4j",
        "colab_type": "code",
        "colab": {
          "base_uri": "https://localhost:8080/",
          "height": 34
        },
        "outputId": "c380b2ed-0860-42f6-99d1-a9b57ecf657e"
      },
      "source": [
        "print(\"The shape of dataset is \", df.shape)"
      ],
      "execution_count": 260,
      "outputs": [
        {
          "output_type": "stream",
          "text": [
            "The shape of dataset is  (2989, 3)\n"
          ],
          "name": "stdout"
        }
      ]
    },
    {
      "cell_type": "code",
      "metadata": {
        "id": "KDpLQHyAZZzk",
        "colab_type": "code",
        "colab": {}
      },
      "source": [
        "# Now, Define column names, drop nulls, convert Date to DateTime format and make Date as an index column because it is not possible to plot the graph without index."
      ],
      "execution_count": 261,
      "outputs": []
    },
    {
      "cell_type": "code",
      "metadata": {
        "id": "lnW76NGNaCd-",
        "colab_type": "code",
        "colab": {
          "base_uri": "https://localhost:8080/",
          "height": 34
        },
        "outputId": "fa9a0bdc-c572-4612-ddf5-f3a8ce53c0be"
      },
      "source": [
        "df.columns"
      ],
      "execution_count": 262,
      "outputs": [
        {
          "output_type": "execute_result",
          "data": {
            "text/plain": [
              "Index(['epoch', 'time', 'parsa_load_total_active_power'], dtype='object')"
            ]
          },
          "metadata": {
            "tags": []
          },
          "execution_count": 262
        }
      ]
    },
    {
      "cell_type": "code",
      "metadata": {
        "id": "Uie8Tn2dZaGt",
        "colab_type": "code",
        "colab": {
          "base_uri": "https://localhost:8080/",
          "height": 204
        },
        "outputId": "450201d2-cf9d-477c-ee8a-534ff27600bb"
      },
      "source": [
        "df.head()"
      ],
      "execution_count": 263,
      "outputs": [
        {
          "output_type": "execute_result",
          "data": {
            "text/html": [
              "<div>\n",
              "<style scoped>\n",
              "    .dataframe tbody tr th:only-of-type {\n",
              "        vertical-align: middle;\n",
              "    }\n",
              "\n",
              "    .dataframe tbody tr th {\n",
              "        vertical-align: top;\n",
              "    }\n",
              "\n",
              "    .dataframe thead th {\n",
              "        text-align: right;\n",
              "    }\n",
              "</style>\n",
              "<table border=\"1\" class=\"dataframe\">\n",
              "  <thead>\n",
              "    <tr style=\"text-align: right;\">\n",
              "      <th></th>\n",
              "      <th>epoch</th>\n",
              "      <th>time</th>\n",
              "      <th>parsa_load_total_active_power</th>\n",
              "    </tr>\n",
              "  </thead>\n",
              "  <tbody>\n",
              "    <tr>\n",
              "      <th>0</th>\n",
              "      <td>1583001000</td>\n",
              "      <td>01-03-2020 00:00</td>\n",
              "      <td>713.933333</td>\n",
              "    </tr>\n",
              "    <tr>\n",
              "      <th>1</th>\n",
              "      <td>1583004600</td>\n",
              "      <td>01-03-2020 01:00</td>\n",
              "      <td>699.683333</td>\n",
              "    </tr>\n",
              "    <tr>\n",
              "      <th>2</th>\n",
              "      <td>1583008200</td>\n",
              "      <td>01-03-2020 02:00</td>\n",
              "      <td>679.366667</td>\n",
              "    </tr>\n",
              "    <tr>\n",
              "      <th>3</th>\n",
              "      <td>1583011800</td>\n",
              "      <td>01-03-2020 03:00</td>\n",
              "      <td>658.366667</td>\n",
              "    </tr>\n",
              "    <tr>\n",
              "      <th>4</th>\n",
              "      <td>1583015400</td>\n",
              "      <td>01-03-2020 04:00</td>\n",
              "      <td>636.533333</td>\n",
              "    </tr>\n",
              "  </tbody>\n",
              "</table>\n",
              "</div>"
            ],
            "text/plain": [
              "        epoch              time  parsa_load_total_active_power\n",
              "0  1583001000  01-03-2020 00:00                     713.933333\n",
              "1  1583004600  01-03-2020 01:00                     699.683333\n",
              "2  1583008200  01-03-2020 02:00                     679.366667\n",
              "3  1583011800  01-03-2020 03:00                     658.366667\n",
              "4  1583015400  01-03-2020 04:00                     636.533333"
            ]
          },
          "metadata": {
            "tags": []
          },
          "execution_count": 263
        }
      ]
    },
    {
      "cell_type": "code",
      "metadata": {
        "id": "XTejgFbnZaVY",
        "colab_type": "code",
        "colab": {}
      },
      "source": [
        "df=df.drop(\"epoch\", 1)"
      ],
      "execution_count": 264,
      "outputs": []
    },
    {
      "cell_type": "code",
      "metadata": {
        "id": "PE0av4Y9ZacA",
        "colab_type": "code",
        "colab": {}
      },
      "source": [
        "df.columns=['Date', 'Power']"
      ],
      "execution_count": 265,
      "outputs": []
    },
    {
      "cell_type": "code",
      "metadata": {
        "id": "bQm-lDA7Zalm",
        "colab_type": "code",
        "colab": {
          "base_uri": "https://localhost:8080/",
          "height": 204
        },
        "outputId": "9a48382d-0936-45b0-89ed-28ae016efaf9"
      },
      "source": [
        "df.head()"
      ],
      "execution_count": 266,
      "outputs": [
        {
          "output_type": "execute_result",
          "data": {
            "text/html": [
              "<div>\n",
              "<style scoped>\n",
              "    .dataframe tbody tr th:only-of-type {\n",
              "        vertical-align: middle;\n",
              "    }\n",
              "\n",
              "    .dataframe tbody tr th {\n",
              "        vertical-align: top;\n",
              "    }\n",
              "\n",
              "    .dataframe thead th {\n",
              "        text-align: right;\n",
              "    }\n",
              "</style>\n",
              "<table border=\"1\" class=\"dataframe\">\n",
              "  <thead>\n",
              "    <tr style=\"text-align: right;\">\n",
              "      <th></th>\n",
              "      <th>Date</th>\n",
              "      <th>Power</th>\n",
              "    </tr>\n",
              "  </thead>\n",
              "  <tbody>\n",
              "    <tr>\n",
              "      <th>0</th>\n",
              "      <td>01-03-2020 00:00</td>\n",
              "      <td>713.933333</td>\n",
              "    </tr>\n",
              "    <tr>\n",
              "      <th>1</th>\n",
              "      <td>01-03-2020 01:00</td>\n",
              "      <td>699.683333</td>\n",
              "    </tr>\n",
              "    <tr>\n",
              "      <th>2</th>\n",
              "      <td>01-03-2020 02:00</td>\n",
              "      <td>679.366667</td>\n",
              "    </tr>\n",
              "    <tr>\n",
              "      <th>3</th>\n",
              "      <td>01-03-2020 03:00</td>\n",
              "      <td>658.366667</td>\n",
              "    </tr>\n",
              "    <tr>\n",
              "      <th>4</th>\n",
              "      <td>01-03-2020 04:00</td>\n",
              "      <td>636.533333</td>\n",
              "    </tr>\n",
              "  </tbody>\n",
              "</table>\n",
              "</div>"
            ],
            "text/plain": [
              "               Date       Power\n",
              "0  01-03-2020 00:00  713.933333\n",
              "1  01-03-2020 01:00  699.683333\n",
              "2  01-03-2020 02:00  679.366667\n",
              "3  01-03-2020 03:00  658.366667\n",
              "4  01-03-2020 04:00  636.533333"
            ]
          },
          "metadata": {
            "tags": []
          },
          "execution_count": 266
        }
      ]
    },
    {
      "cell_type": "code",
      "metadata": {
        "id": "4eYUNzEDZawS",
        "colab_type": "code",
        "colab": {
          "base_uri": "https://localhost:8080/",
          "height": 68
        },
        "outputId": "63d0f094-a01b-4e3b-d870-e791843acf55"
      },
      "source": [
        "df.isnull().sum()"
      ],
      "execution_count": 267,
      "outputs": [
        {
          "output_type": "execute_result",
          "data": {
            "text/plain": [
              "Date       0\n",
              "Power    180\n",
              "dtype: int64"
            ]
          },
          "metadata": {
            "tags": []
          },
          "execution_count": 267
        }
      ]
    },
    {
      "cell_type": "code",
      "metadata": {
        "id": "-IoOp4j0Za6P",
        "colab_type": "code",
        "colab": {}
      },
      "source": [
        "df=df.dropna()"
      ],
      "execution_count": 268,
      "outputs": []
    },
    {
      "cell_type": "code",
      "metadata": {
        "id": "0IPU9szBZbEO",
        "colab_type": "code",
        "colab": {
          "base_uri": "https://localhost:8080/",
          "height": 68
        },
        "outputId": "6ece61c9-15f1-486f-8a82-d78901e13c37"
      },
      "source": [
        "df.isnull().sum()"
      ],
      "execution_count": 269,
      "outputs": [
        {
          "output_type": "execute_result",
          "data": {
            "text/plain": [
              "Date     0\n",
              "Power    0\n",
              "dtype: int64"
            ]
          },
          "metadata": {
            "tags": []
          },
          "execution_count": 269
        }
      ]
    },
    {
      "cell_type": "code",
      "metadata": {
        "id": "HdF-14nm-xeq",
        "colab_type": "code",
        "colab": {}
      },
      "source": [
        "# As we can see , an observation is recorded every 1 hour. This means that, for a single day, we will have 24 observations. "
      ],
      "execution_count": 271,
      "outputs": []
    },
    {
      "cell_type": "code",
      "metadata": {
        "id": "gy1UwMzJ-xs4",
        "colab_type": "code",
        "colab": {}
      },
      "source": [
        "# Now we want to predict the power for 24 hours in the future.\n",
        "# In order to make this prediction, we choose to use 95 days of observations.\n",
        "# Thus, you would create a window containing the last 2280(95x24) observations to train the model."
      ],
      "execution_count": 273,
      "outputs": []
    },
    {
      "cell_type": "code",
      "metadata": {
        "id": "nh8prG79-x0_",
        "colab_type": "code",
        "colab": {}
      },
      "source": [
        "# The function below returns the above described windows of time for the model to train on. \n",
        "# The parameter history_size is the size of the past window of information.\n",
        "# The target_size is how far in the future does the model need to learn to predict. \n",
        "# The target_size is the label that needs to be predicted."
      ],
      "execution_count": 274,
      "outputs": []
    },
    {
      "cell_type": "code",
      "metadata": {
        "id": "gVJRuN45-yI8",
        "colab_type": "code",
        "colab": {}
      },
      "source": [
        "def univariate_data(dataset, start_index, end_index, history_size, target_size):\n",
        "  data = []\n",
        "  labels = []\n",
        "\n",
        "  start_index = start_index + history_size\n",
        "  if end_index is None:\n",
        "    end_index = len(dataset) - target_size\n",
        "\n",
        "  for i in range(start_index, end_index):\n",
        "    indices = range(i-history_size, i)\n",
        "\n",
        "    # Reshape data from (history_size,) to (history_size, 1)\n",
        "    data.append(np.reshape(dataset[indices], (history_size, 1)))\n",
        "    labels.append(dataset[i+target_size])\n",
        "  return np.array(data), np.array(labels)"
      ],
      "execution_count": 275,
      "outputs": []
    },
    {
      "cell_type": "code",
      "metadata": {
        "id": "TT1zS_JxBoj7",
        "colab_type": "code",
        "colab": {
          "base_uri": "https://localhost:8080/",
          "height": 34
        },
        "outputId": "71dc8ada-7794-45e4-9f72-482067b9dcf3"
      },
      "source": [
        "df.shape"
      ],
      "execution_count": 276,
      "outputs": [
        {
          "output_type": "execute_result",
          "data": {
            "text/plain": [
              "(2809, 2)"
            ]
          },
          "metadata": {
            "tags": []
          },
          "execution_count": 276
        }
      ]
    },
    {
      "cell_type": "code",
      "metadata": {
        "id": "BGyeLRNV-yV5",
        "colab_type": "code",
        "colab": {}
      },
      "source": [
        "# I am taking 95 days for training data i.e. (95*24= ) observations\n",
        "\n",
        "TRAIN_SPLIT = 2280"
      ],
      "execution_count": 277,
      "outputs": []
    },
    {
      "cell_type": "code",
      "metadata": {
        "id": "NMxQcr5pAc8w",
        "colab_type": "code",
        "colab": {}
      },
      "source": [
        "#Setting seed to ensure reproducibility.\n",
        "tf.random.set_seed(13)"
      ],
      "execution_count": 278,
      "outputs": []
    },
    {
      "cell_type": "code",
      "metadata": {
        "id": "kAcajJx2AdPz",
        "colab_type": "code",
        "colab": {}
      },
      "source": [
        "#  Forecast a univariate time series"
      ],
      "execution_count": 279,
      "outputs": []
    },
    {
      "cell_type": "code",
      "metadata": {
        "id": "6LXkET-XAsms",
        "colab_type": "code",
        "colab": {
          "base_uri": "https://localhost:8080/",
          "height": 204
        },
        "outputId": "6ba93da7-0c2d-451e-e5aa-7edafc3527a6"
      },
      "source": [
        "df.head()"
      ],
      "execution_count": 280,
      "outputs": [
        {
          "output_type": "execute_result",
          "data": {
            "text/html": [
              "<div>\n",
              "<style scoped>\n",
              "    .dataframe tbody tr th:only-of-type {\n",
              "        vertical-align: middle;\n",
              "    }\n",
              "\n",
              "    .dataframe tbody tr th {\n",
              "        vertical-align: top;\n",
              "    }\n",
              "\n",
              "    .dataframe thead th {\n",
              "        text-align: right;\n",
              "    }\n",
              "</style>\n",
              "<table border=\"1\" class=\"dataframe\">\n",
              "  <thead>\n",
              "    <tr style=\"text-align: right;\">\n",
              "      <th></th>\n",
              "      <th>Date</th>\n",
              "      <th>Power</th>\n",
              "    </tr>\n",
              "  </thead>\n",
              "  <tbody>\n",
              "    <tr>\n",
              "      <th>0</th>\n",
              "      <td>01-03-2020 00:00</td>\n",
              "      <td>713.933333</td>\n",
              "    </tr>\n",
              "    <tr>\n",
              "      <th>1</th>\n",
              "      <td>01-03-2020 01:00</td>\n",
              "      <td>699.683333</td>\n",
              "    </tr>\n",
              "    <tr>\n",
              "      <th>2</th>\n",
              "      <td>01-03-2020 02:00</td>\n",
              "      <td>679.366667</td>\n",
              "    </tr>\n",
              "    <tr>\n",
              "      <th>3</th>\n",
              "      <td>01-03-2020 03:00</td>\n",
              "      <td>658.366667</td>\n",
              "    </tr>\n",
              "    <tr>\n",
              "      <th>4</th>\n",
              "      <td>01-03-2020 04:00</td>\n",
              "      <td>636.533333</td>\n",
              "    </tr>\n",
              "  </tbody>\n",
              "</table>\n",
              "</div>"
            ],
            "text/plain": [
              "               Date       Power\n",
              "0  01-03-2020 00:00  713.933333\n",
              "1  01-03-2020 01:00  699.683333\n",
              "2  01-03-2020 02:00  679.366667\n",
              "3  01-03-2020 03:00  658.366667\n",
              "4  01-03-2020 04:00  636.533333"
            ]
          },
          "metadata": {
            "tags": []
          },
          "execution_count": 280
        }
      ]
    },
    {
      "cell_type": "code",
      "metadata": {
        "id": "3ULoPNLDAddV",
        "colab_type": "code",
        "colab": {
          "base_uri": "https://localhost:8080/",
          "height": 136
        },
        "outputId": "e392e9f5-8c8b-4058-fc90-1f2be6251cd4"
      },
      "source": [
        "uni_data = df['Power']\n",
        "uni_data.index = df['Date']\n",
        "uni_data.head()"
      ],
      "execution_count": 281,
      "outputs": [
        {
          "output_type": "execute_result",
          "data": {
            "text/plain": [
              "Date\n",
              "01-03-2020 00:00    713.933333\n",
              "01-03-2020 01:00    699.683333\n",
              "01-03-2020 02:00    679.366667\n",
              "01-03-2020 03:00    658.366667\n",
              "01-03-2020 04:00    636.533333\n",
              "Name: Power, dtype: float64"
            ]
          },
          "metadata": {
            "tags": []
          },
          "execution_count": 281
        }
      ]
    },
    {
      "cell_type": "code",
      "metadata": {
        "id": "eYV5w88qAdw3",
        "colab_type": "code",
        "colab": {
          "base_uri": "https://localhost:8080/",
          "height": 459
        },
        "outputId": "d5039943-e863-4507-9874-facede446ae3"
      },
      "source": [
        "# Let's observe how this data looks across time.\n",
        "\n",
        "uni_data.plot(subplots=True)"
      ],
      "execution_count": 282,
      "outputs": [
        {
          "output_type": "execute_result",
          "data": {
            "text/plain": [
              "array([<matplotlib.axes._subplots.AxesSubplot object at 0x7fccd331f160>],\n",
              "      dtype=object)"
            ]
          },
          "metadata": {
            "tags": []
          },
          "execution_count": 282
        },
        {
          "output_type": "display_data",
          "data": {
            "image/png": "[encoded data removed]",
            "text/plain": [
              "<Figure size 576x432 with 1 Axes>"
            ]
          },
          "metadata": {
            "tags": []
          }
        }
      ]
    },
    {
      "cell_type": "code",
      "metadata": {
        "id": "1C205EGbAd9h",
        "colab_type": "code",
        "colab": {}
      },
      "source": [
        "uni_data = uni_data.values"
      ],
      "execution_count": 283,
      "outputs": []
    },
    {
      "cell_type": "code",
      "metadata": {
        "id": "igtUXyhDBUxQ",
        "colab_type": "code",
        "colab": {}
      },
      "source": [
        "# It is important to scale features before training a neural network. \n",
        "# Standardization is a common way of doing this scaling by subtracting the mean and dividing by the standard deviation of each feature.\n",
        "# we can also use a tf.keras.utils.normalize method that rescales the values into a range of [0,1]."
      ],
      "execution_count": 284,
      "outputs": []
    },
    {
      "cell_type": "code",
      "metadata": {
        "id": "B576V9bVBU_v",
        "colab_type": "code",
        "colab": {}
      },
      "source": [
        "uni_train_mean = uni_data[:TRAIN_SPLIT].mean()\n",
        "uni_train_std = uni_data[:TRAIN_SPLIT].std()"
      ],
      "execution_count": 285,
      "outputs": []
    },
    {
      "cell_type": "code",
      "metadata": {
        "id": "etuAN5dTBVN0",
        "colab_type": "code",
        "colab": {}
      },
      "source": [
        "# Let's standardize the data.\n",
        "\n",
        "uni_data = (uni_data-uni_train_mean)/uni_train_std"
      ],
      "execution_count": 286,
      "outputs": []
    },
    {
      "cell_type": "code",
      "metadata": {
        "id": "FaYnKYSnBVWx",
        "colab_type": "code",
        "colab": {}
      },
      "source": [
        "# Let's now create the data for the univariate model.\n",
        "# Now the model will be given the last 120 recorded power observations, and needs to learn to predict the power at the next time step."
      ],
      "execution_count": 296,
      "outputs": []
    },
    {
      "cell_type": "code",
      "metadata": {
        "id": "1zZwNhf2BVf9",
        "colab_type": "code",
        "colab": {}
      },
      "source": [
        "univariate_past_history = 120\n",
        "univariate_future_target = 0\n",
        "\n",
        "x_train_uni, y_train_uni = univariate_data(uni_data, 0, TRAIN_SPLIT,\n",
        "                                           univariate_past_history,\n",
        "                                           univariate_future_target)\n",
        "x_val_uni, y_val_uni = univariate_data(uni_data, TRAIN_SPLIT, None,\n",
        "                                       univariate_past_history,\n",
        "                                       univariate_future_target)"
      ],
      "execution_count": 289,
      "outputs": []
    },
    {
      "cell_type": "code",
      "metadata": {
        "id": "rdh3T2bnBVsI",
        "colab_type": "code",
        "colab": {
          "base_uri": "https://localhost:8080/",
          "height": 1000
        },
        "outputId": "fb3193f6-eae7-498e-b926-0bfc129102ea"
      },
      "source": [
        "print ('Single window of past history')\n",
        "print (x_train_uni[0])\n",
        "print ('\\n Target power to predict')\n",
        "print (y_train_uni[0])"
      ],
      "execution_count": 290,
      "outputs": [
        {
          "output_type": "stream",
          "text": [
            "Single window of past history\n",
            "[[-0.64331561]\n",
            " [-0.66114411]\n",
            " [-0.68656276]\n",
            " [-0.71283634]\n",
            " [-0.74015253]\n",
            " [-0.82791881]\n",
            " [-0.84015897]\n",
            " [-0.20016783]\n",
            " [ 0.28199414]\n",
            " [-0.80556541]\n",
            " [-0.77822837]\n",
            " [-0.64986315]\n",
            " [-0.49791426]\n",
            " [-0.6142687 ]\n",
            " [-0.6762827 ]\n",
            " [-0.28766303]\n",
            " [-0.22942325]\n",
            " [ 0.84981254]\n",
            " [ 0.53407458]\n",
            " [-0.07021785]\n",
            " [ 0.55718206]\n",
            " [-0.64896651]\n",
            " [-0.68232979]\n",
            " [-0.63958309]\n",
            " [-0.65588939]\n",
            " [-0.64143892]\n",
            " [-0.68247576]\n",
            " [-0.68554101]\n",
            " [-0.64692301]\n",
            " [-0.78804969]\n",
            " [ 1.30248869]\n",
            " [-0.80310785]\n",
            " [ 0.43275447]\n",
            " [ 0.8931886 ]\n",
            " [ 0.68131091]\n",
            " [ 2.45231728]\n",
            " [ 1.05470859]\n",
            " [-0.42242983]\n",
            " [-0.47328799]\n",
            " [-0.55102443]\n",
            " [-0.25648921]\n",
            " [ 0.29569394]\n",
            " [-0.18152609]\n",
            " [-0.45497988]\n",
            " [-0.59316642]\n",
            " [-0.66977686]\n",
            " [-0.69834417]\n",
            " [-0.72180273]\n",
            " [-0.70107579]\n",
            " [-0.71569307]\n",
            " [-0.66769165]\n",
            " [-0.76565459]\n",
            " [ 0.88795474]\n",
            " [-0.66020577]\n",
            " [-0.73539826]\n",
            " [-0.79824634]\n",
            " [-0.70434956]\n",
            " [-0.65107257]\n",
            " [-0.3874818 ]\n",
            " [-0.25919998]\n",
            " [-0.29927762]\n",
            " [ 0.18820162]\n",
            " [-0.07121874]\n",
            " [-0.28657872]\n",
            " [-0.21985216]\n",
            " [-0.31506262]\n",
            " [-0.436359  ]\n",
            " [-0.47320458]\n",
            " [-0.51226047]\n",
            " [-0.66564815]\n",
            " [-0.65401271]\n",
            " [-0.68134975]\n",
            " [-0.66041429]\n",
            " [-0.72674466]\n",
            " [-0.70001233]\n",
            " [-0.7988719 ]\n",
            " [ 0.45571258]\n",
            " [-0.18638462]\n",
            " [-0.8496258 ]\n",
            " [ 0.56164099]\n",
            " [ 2.27503464]\n",
            " [ 1.26422999]\n",
            " [ 0.83330505]\n",
            " [ 2.43824215]\n",
            " [ 1.09987413]\n",
            " [ 1.35018214]\n",
            " [ 0.2881455 ]\n",
            " [-0.01137336]\n",
            " [-0.12318205]\n",
            " [ 0.53841181]\n",
            " [-0.43273075]\n",
            " [-0.47916826]\n",
            " [-0.56891549]\n",
            " [-0.66423021]\n",
            " [-0.67949391]\n",
            " [-0.67822194]\n",
            " [-0.66141519]\n",
            " [-0.69369416]\n",
            " [-0.65130194]\n",
            " [-0.77620573]\n",
            " [-0.69137958]\n",
            " [ 0.7680763 ]\n",
            " [-0.85202378]\n",
            " [-0.6041346 ]\n",
            " [-0.56322288]\n",
            " [-0.41732108]\n",
            " [ 0.87919688]\n",
            " [ 2.38930239]\n",
            " [ 0.97000756]\n",
            " [ 1.87075359]\n",
            " [ 1.97272012]\n",
            " [ 0.11244612]\n",
            " [ 0.57665447]\n",
            " [-0.14384644]\n",
            " [-0.23567887]\n",
            " [-0.25590536]\n",
            " [-0.50527503]\n",
            " [-0.63301469]\n",
            " [-0.65009252]\n",
            " [-0.65924657]]\n",
            "\n",
            " Target power to predict\n",
            "-0.6548259385351667\n"
          ],
          "name": "stdout"
        }
      ]
    },
    {
      "cell_type": "code",
      "metadata": {
        "id": "P4Cg-wMcCwfn",
        "colab_type": "code",
        "colab": {}
      },
      "source": [
        "# Now that the data has been created, let's take a look at a single example. \n",
        "# The information given to the network is given in blue, and it must predict the value at the red cross."
      ],
      "execution_count": 291,
      "outputs": []
    },
    {
      "cell_type": "code",
      "metadata": {
        "id": "enrepauZCwsp",
        "colab_type": "code",
        "colab": {}
      },
      "source": [
        "def create_time_steps(length):\n",
        "   return list(range(-length, 0))"
      ],
      "execution_count": 292,
      "outputs": []
    },
    {
      "cell_type": "code",
      "metadata": {
        "id": "OVtV05UBCw_2",
        "colab_type": "code",
        "colab": {}
      },
      "source": [
        "def show_plot(plot_data, delta, title):\n",
        "   labels = ['History', 'True Future', 'Model Prediction']\n",
        "   marker = ['.-', 'rx', 'go']\n",
        "   time_steps = create_time_steps(plot_data[0].shape[0])\n",
        "   if delta:\n",
        "     future = delta\n",
        "   else:\n",
        "     future = 0\n",
        "\n",
        "   plt.title(title)\n",
        "   for i, x in enumerate(plot_data):\n",
        "     if i:\n",
        "       plt.plot(future, plot_data[i], marker[i], markersize=10,\n",
        "                label=labels[i])\n",
        "     else:\n",
        "       plt.plot(time_steps, plot_data[i].flatten(), marker[i], label=labels[i])\n",
        "   plt.legend()\n",
        "   plt.xlim([time_steps[0], (future+5)*2])\n",
        "   plt.xlabel('Time-Step')\n",
        "   return plt"
      ],
      "execution_count": 293,
      "outputs": []
    },
    {
      "cell_type": "code",
      "metadata": {
        "id": "r81GNfrlCxRF",
        "colab_type": "code",
        "colab": {
          "base_uri": "https://localhost:8080/",
          "height": 458
        },
        "outputId": "6eaa03cc-7d87-4714-818f-39228f2fdb32"
      },
      "source": [
        "show_plot([x_train_uni[0], y_train_uni[0]], 0, 'Sample Example')"
      ],
      "execution_count": 294,
      "outputs": [
        {
          "output_type": "execute_result",
          "data": {
            "text/plain": [
              "<module 'matplotlib.pyplot' from '/usr/local/lib/python3.6/dist-packages/matplotlib/pyplot.py'>"
            ]
          },
          "metadata": {
            "tags": []
          },
          "execution_count": 294
        },
        {
          "output_type": "display_data",
          "data": {
            "image/png": "[encoded data removed]",
            "text/plain": [
              "<Figure size 576x432 with 1 Axes>"
            ]
          },
          "metadata": {
            "tags": []
          }
        }
      ]
    },
    {
      "cell_type": "code",
      "metadata": {
        "id": "obk49BFeCxcZ",
        "colab_type": "code",
        "colab": {}
      },
      "source": [
        "# Baseline\n",
        "# Before proceeding to train a model, let's first set a simple baseline. \n",
        "# Given an input point, the baseline method looks at all the history and predicts the next point to be the average of the last 120 observations."
      ],
      "execution_count": 297,
      "outputs": []
    },
    {
      "cell_type": "code",
      "metadata": {
        "id": "X953e3xsCxls",
        "colab_type": "code",
        "colab": {}
      },
      "source": [
        "def baseline(history):\n",
        "  return np.mean(history)"
      ],
      "execution_count": 298,
      "outputs": []
    },
    {
      "cell_type": "code",
      "metadata": {
        "id": "GRlJPN-gCxvT",
        "colab_type": "code",
        "colab": {
          "base_uri": "https://localhost:8080/",
          "height": 458
        },
        "outputId": "fe6e43e1-1cb0-48f8-f198-f423de442037"
      },
      "source": [
        "show_plot([x_train_uni[0], y_train_uni[0], baseline(x_train_uni[0])], 0,\n",
        "           'Baseline Prediction Example')"
      ],
      "execution_count": 299,
      "outputs": [
        {
          "output_type": "execute_result",
          "data": {
            "text/plain": [
              "<module 'matplotlib.pyplot' from '/usr/local/lib/python3.6/dist-packages/matplotlib/pyplot.py'>"
            ]
          },
          "metadata": {
            "tags": []
          },
          "execution_count": 299
        },
        {
          "output_type": "display_data",
          "data": {
            "image/png": "[encoded data removed]",
            "text/plain": [
              "<Figure size 576x432 with 1 Axes>"
            ]
          },
          "metadata": {
            "tags": []
          }
        }
      ]
    },
    {
      "cell_type": "code",
      "metadata": {
        "id": "n5Pebw41vuV0",
        "colab_type": "code",
        "colab": {}
      },
      "source": [
        "# As we can see this baseline approach didnt work weel in predictions"
      ],
      "execution_count": 300,
      "outputs": []
    },
    {
      "cell_type": "code",
      "metadata": {
        "id": "HtrozrfQCx69",
        "colab_type": "code",
        "colab": {}
      },
      "source": [
        "# Let's see RNN now if it  can beat this baseline.\n",
        "# A Recurrent Neural Network (RNN) is a type of neural network well-suited to time series data. RNNs process a time series step-by-step, maintaining an internal state summarizing the information they've seen so far."
      ],
      "execution_count": 301,
      "outputs": []
    },
    {
      "cell_type": "code",
      "metadata": {
        "id": "3VWzTyswCyIl",
        "colab_type": "code",
        "colab": {}
      },
      "source": [
        "# Let's now use tf.data to shuffle, batch, and cache the dataset.\n",
        "\n",
        "BATCH_SIZE = 24\n",
        "BUFFER_SIZE = 200\n",
        "\n",
        "train_univariate = tf.data.Dataset.from_tensor_slices((x_train_uni, y_train_uni))\n",
        "train_univariate = train_univariate.cache().shuffle(BUFFER_SIZE).batch(BATCH_SIZE).repeat()\n",
        "\n",
        "val_univariate = tf.data.Dataset.from_tensor_slices((x_val_uni, y_val_uni))\n",
        "val_univariate = val_univariate.batch(BATCH_SIZE).repeat()"
      ],
      "execution_count": 302,
      "outputs": []
    },
    {
      "cell_type": "code",
      "metadata": {
        "id": "WvxPLAIZCyce",
        "colab_type": "code",
        "colab": {}
      },
      "source": [
        "# You will see the LSTM requires the input shape of the data it is being given.\n",
        "\n",
        "simple_lstm_model = tf.keras.models.Sequential([\n",
        "    tf.keras.layers.LSTM(8, input_shape=x_train_uni.shape[-2:]),\n",
        "    tf.keras.layers.Dense(1)\n",
        "])\n",
        "\n",
        "simple_lstm_model.compile(optimizer='adam', loss='mae')"
      ],
      "execution_count": 303,
      "outputs": []
    },
    {
      "cell_type": "code",
      "metadata": {
        "id": "fQgwr8EdCypS",
        "colab_type": "code",
        "colab": {
          "base_uri": "https://localhost:8080/",
          "height": 34
        },
        "outputId": "a8b00b26-aff2-44fc-9750-eb147c216cde"
      },
      "source": [
        "# Let's make a sample prediction, to check the output of the model.\n",
        "\n",
        "for x, y in val_univariate.take(1):\n",
        "    print(simple_lstm_model.predict(x).shape)"
      ],
      "execution_count": 304,
      "outputs": [
        {
          "output_type": "stream",
          "text": [
            "(24, 1)\n"
          ],
          "name": "stdout"
        }
      ]
    },
    {
      "cell_type": "code",
      "metadata": {
        "id": "sFYLNqQcwDc2",
        "colab_type": "code",
        "colab": {
          "base_uri": "https://localhost:8080/",
          "height": 374
        },
        "outputId": "0494c1c9-f7c6-4de3-f10b-5bae915148f7"
      },
      "source": [
        "# Let's train the model now. \n",
        "\n",
        "EVALUATION_INTERVAL = 200\n",
        "EPOCHS = 10\n",
        "\n",
        "simple_lstm_model.fit(train_univariate, epochs=EPOCHS,\n",
        "                      steps_per_epoch=EVALUATION_INTERVAL,\n",
        "                      validation_data=val_univariate, validation_steps=5)"
      ],
      "execution_count": 306,
      "outputs": [
        {
          "output_type": "stream",
          "text": [
            "Epoch 1/10\n",
            "200/200 [==============================] - 7s 35ms/step - loss: 0.4592 - val_loss: 0.6653\n",
            "Epoch 2/10\n",
            "200/200 [==============================] - 7s 35ms/step - loss: 0.4576 - val_loss: 0.6551\n",
            "Epoch 3/10\n",
            "200/200 [==============================] - 7s 35ms/step - loss: 0.4585 - val_loss: 0.6431\n",
            "Epoch 4/10\n",
            "200/200 [==============================] - 7s 35ms/step - loss: 0.4641 - val_loss: 0.6401\n",
            "Epoch 5/10\n",
            "200/200 [==============================] - 7s 35ms/step - loss: 0.4577 - val_loss: 0.6370\n",
            "Epoch 6/10\n",
            "200/200 [==============================] - 7s 36ms/step - loss: 0.4501 - val_loss: 0.6402\n",
            "Epoch 7/10\n",
            "200/200 [==============================] - 7s 35ms/step - loss: 0.4516 - val_loss: 0.6368\n",
            "Epoch 8/10\n",
            "200/200 [==============================] - 7s 33ms/step - loss: 0.4561 - val_loss: 0.6343\n",
            "Epoch 9/10\n",
            "200/200 [==============================] - 7s 33ms/step - loss: 0.4626 - val_loss: 0.6333\n",
            "Epoch 10/10\n",
            "200/200 [==============================] - 7s 33ms/step - loss: 0.4470 - val_loss: 0.6420\n"
          ],
          "name": "stdout"
        },
        {
          "output_type": "execute_result",
          "data": {
            "text/plain": [
              "<tensorflow.python.keras.callbacks.History at 0x7fccd7763fd0>"
            ]
          },
          "metadata": {
            "tags": []
          },
          "execution_count": 306
        }
      ]
    },
    {
      "cell_type": "code",
      "metadata": {
        "id": "ov2lUu9NHD-H",
        "colab_type": "code",
        "colab": {}
      },
      "source": [
        "# Predict using the simple LSTM model\n",
        "# Now that we have trained our simple LSTM, let's try and make a few predictions."
      ],
      "execution_count": 307,
      "outputs": []
    },
    {
      "cell_type": "code",
      "metadata": {
        "id": "eXT0znkVCyUr",
        "colab_type": "code",
        "colab": {
          "base_uri": "https://localhost:8080/",
          "height": 865
        },
        "outputId": "a7a57833-6ad1-41f6-80c6-05749076f63c"
      },
      "source": [
        "for x, y in val_univariate.take(2):\n",
        " plot = show_plot([x[0].numpy(), y[0].numpy(),\n",
        "                   simple_lstm_model.predict(x)[0]], 0, 'Simple LSTM model')\n",
        " plot.show()"
      ],
      "execution_count": 310,
      "outputs": [
        {
          "output_type": "display_data",
          "data": {
            "image/png": "[encoded data removed]",
            "text/plain": [
              "<Figure size 576x432 with 1 Axes>"
            ]
          },
          "metadata": {
            "tags": []
          }
        },
        {
          "output_type": "display_data",
          "data": {
            "image/png": "[encoded data removed]",
            "text/plain": [
              "<Figure size 576x432 with 1 Axes>"
            ]
          },
          "metadata": {
            "tags": []
          }
        }
      ]
    },
    {
      "cell_type": "code",
      "metadata": {
        "id": "IB5SfT25Cw4w",
        "colab_type": "code",
        "colab": {}
      },
      "source": [
        "# This looks much better than the baseline."
      ],
      "execution_count": 311,
      "outputs": []
    },
    {
      "cell_type": "code",
      "metadata": {
        "id": "43nVX2ebS-4G",
        "colab_type": "code",
        "colab": {}
      },
      "source": [
        "# Lets print predictions for next 24 hours\n",
        "output=[]\n",
        "for i in range(0,24):\n",
        "   o=(simple_lstm_model.predict(x)[i], i)\n",
        "   output.append(o)\n",
        "   i+=1"
      ],
      "execution_count": 314,
      "outputs": []
    },
    {
      "cell_type": "code",
      "metadata": {
        "id": "yubvHucGS_d9",
        "colab_type": "code",
        "colab": {
          "base_uri": "https://localhost:8080/",
          "height": 425
        },
        "outputId": "d0040e4e-47bd-4e64-815b-5ca0ee316c7e"
      },
      "source": [
        "output"
      ],
      "execution_count": 315,
      "outputs": [
        {
          "output_type": "execute_result",
          "data": {
            "text/plain": [
              "[(array([1.2740295], dtype=float32), 0),\n",
              " (array([1.113847], dtype=float32), 1),\n",
              " (array([1.651821], dtype=float32), 2),\n",
              " (array([1.1538267], dtype=float32), 3),\n",
              " (array([1.1347959], dtype=float32), 4),\n",
              " (array([0.08536834], dtype=float32), 5),\n",
              " (array([-0.11372597], dtype=float32), 6),\n",
              " (array([-0.4504072], dtype=float32), 7),\n",
              " (array([-0.6435559], dtype=float32), 8),\n",
              " (array([-0.6957151], dtype=float32), 9),\n",
              " (array([-0.7391396], dtype=float32), 10),\n",
              " (array([-0.77830684], dtype=float32), 11),\n",
              " (array([-0.7447468], dtype=float32), 12),\n",
              " (array([-0.7328633], dtype=float32), 13),\n",
              " (array([-0.6834036], dtype=float32), 14),\n",
              " (array([0.4413196], dtype=float32), 15),\n",
              " (array([0.583458], dtype=float32), 16),\n",
              " (array([-0.18462837], dtype=float32), 17),\n",
              " (array([0.27567944], dtype=float32), 18),\n",
              " (array([0.49809036], dtype=float32), 19),\n",
              " (array([0.04937701], dtype=float32), 20),\n",
              " (array([1.121098], dtype=float32), 21),\n",
              " (array([1.2481713], dtype=float32), 22),\n",
              " (array([0.6403888], dtype=float32), 23)]"
            ]
          },
          "metadata": {
            "tags": []
          },
          "execution_count": 315
        }
      ]
    },
    {
      "cell_type": "code",
      "metadata": {
        "id": "4656g94qU6XK",
        "colab_type": "code",
        "colab": {
          "base_uri": "https://localhost:8080/",
          "height": 204
        },
        "outputId": "10ac2120-ac7e-4ef9-901a-3ad45fcda2dc"
      },
      "source": [
        "df.tail()"
      ],
      "execution_count": 317,
      "outputs": [
        {
          "output_type": "execute_result",
          "data": {
            "text/html": [
              "<div>\n",
              "<style scoped>\n",
              "    .dataframe tbody tr th:only-of-type {\n",
              "        vertical-align: middle;\n",
              "    }\n",
              "\n",
              "    .dataframe tbody tr th {\n",
              "        vertical-align: top;\n",
              "    }\n",
              "\n",
              "    .dataframe thead th {\n",
              "        text-align: right;\n",
              "    }\n",
              "</style>\n",
              "<table border=\"1\" class=\"dataframe\">\n",
              "  <thead>\n",
              "    <tr style=\"text-align: right;\">\n",
              "      <th></th>\n",
              "      <th>Date</th>\n",
              "      <th>Power</th>\n",
              "    </tr>\n",
              "  </thead>\n",
              "  <tbody>\n",
              "    <tr>\n",
              "      <th>2979</th>\n",
              "      <td>03-07-2020 03:00</td>\n",
              "      <td>780.366667</td>\n",
              "    </tr>\n",
              "    <tr>\n",
              "      <th>2980</th>\n",
              "      <td>03-07-2020 04:00</td>\n",
              "      <td>884.450000</td>\n",
              "    </tr>\n",
              "    <tr>\n",
              "      <th>2981</th>\n",
              "      <td>03-07-2020 05:00</td>\n",
              "      <td>2226.500000</td>\n",
              "    </tr>\n",
              "    <tr>\n",
              "      <th>2982</th>\n",
              "      <td>03-07-2020 06:00</td>\n",
              "      <td>2252.939394</td>\n",
              "    </tr>\n",
              "    <tr>\n",
              "      <th>2983</th>\n",
              "      <td>03-07-2020 07:00</td>\n",
              "      <td>660.000000</td>\n",
              "    </tr>\n",
              "  </tbody>\n",
              "</table>\n",
              "</div>"
            ],
            "text/plain": [
              "                  Date        Power\n",
              "2979  03-07-2020 03:00   780.366667\n",
              "2980  03-07-2020 04:00   884.450000\n",
              "2981  03-07-2020 05:00  2226.500000\n",
              "2982  03-07-2020 06:00  2252.939394\n",
              "2983  03-07-2020 07:00   660.000000"
            ]
          },
          "metadata": {
            "tags": []
          },
          "execution_count": 317
        }
      ]
    },
    {
      "cell_type": "code",
      "metadata": {
        "id": "95BZRLT6UED4",
        "colab_type": "code",
        "colab": {}
      },
      "source": [
        "df2 =pd.DataFrame (output,columns=['Predicted_Power', 'Hours'])"
      ],
      "execution_count": 318,
      "outputs": []
    },
    {
      "cell_type": "code",
      "metadata": {
        "id": "3WYShaXHYT59",
        "colab_type": "code",
        "colab": {
          "base_uri": "https://localhost:8080/",
          "height": 204
        },
        "outputId": "87142a8f-0bff-4f09-ce48-88da9d295c50"
      },
      "source": [
        "df2.tail()"
      ],
      "execution_count": 319,
      "outputs": [
        {
          "output_type": "execute_result",
          "data": {
            "text/html": [
              "<div>\n",
              "<style scoped>\n",
              "    .dataframe tbody tr th:only-of-type {\n",
              "        vertical-align: middle;\n",
              "    }\n",
              "\n",
              "    .dataframe tbody tr th {\n",
              "        vertical-align: top;\n",
              "    }\n",
              "\n",
              "    .dataframe thead th {\n",
              "        text-align: right;\n",
              "    }\n",
              "</style>\n",
              "<table border=\"1\" class=\"dataframe\">\n",
              "  <thead>\n",
              "    <tr style=\"text-align: right;\">\n",
              "      <th></th>\n",
              "      <th>Predicted_Power</th>\n",
              "      <th>Hours</th>\n",
              "    </tr>\n",
              "  </thead>\n",
              "  <tbody>\n",
              "    <tr>\n",
              "      <th>19</th>\n",
              "      <td>[0.49809036]</td>\n",
              "      <td>19</td>\n",
              "    </tr>\n",
              "    <tr>\n",
              "      <th>20</th>\n",
              "      <td>[0.049377006]</td>\n",
              "      <td>20</td>\n",
              "    </tr>\n",
              "    <tr>\n",
              "      <th>21</th>\n",
              "      <td>[1.121098]</td>\n",
              "      <td>21</td>\n",
              "    </tr>\n",
              "    <tr>\n",
              "      <th>22</th>\n",
              "      <td>[1.2481713]</td>\n",
              "      <td>22</td>\n",
              "    </tr>\n",
              "    <tr>\n",
              "      <th>23</th>\n",
              "      <td>[0.6403888]</td>\n",
              "      <td>23</td>\n",
              "    </tr>\n",
              "  </tbody>\n",
              "</table>\n",
              "</div>"
            ],
            "text/plain": [
              "   Predicted_Power  Hours\n",
              "19    [0.49809036]     19\n",
              "20   [0.049377006]     20\n",
              "21      [1.121098]     21\n",
              "22     [1.2481713]     22\n",
              "23     [0.6403888]     23"
            ]
          },
          "metadata": {
            "tags": []
          },
          "execution_count": 319
        }
      ]
    },
    {
      "cell_type": "code",
      "metadata": {
        "id": "nB8I7xHAdU1O",
        "colab_type": "code",
        "colab": {
          "base_uri": "https://localhost:8080/",
          "height": 68
        },
        "outputId": "216aa48d-2b07-425f-973e-43d5f68d981d"
      },
      "source": [
        "df2.dtypes"
      ],
      "execution_count": 320,
      "outputs": [
        {
          "output_type": "execute_result",
          "data": {
            "text/plain": [
              "Predicted_Power    object\n",
              "Hours               int64\n",
              "dtype: object"
            ]
          },
          "metadata": {
            "tags": []
          },
          "execution_count": 320
        }
      ]
    },
    {
      "cell_type": "code",
      "metadata": {
        "id": "c5Ko1AhLdk5f",
        "colab_type": "code",
        "colab": {}
      },
      "source": [
        "df2[\"Predicted_Power\"] = df2[\"Predicted_Power\"].astype(float)"
      ],
      "execution_count": 321,
      "outputs": []
    },
    {
      "cell_type": "code",
      "metadata": {
        "id": "43t4VFIhdk09",
        "colab_type": "code",
        "colab": {
          "base_uri": "https://localhost:8080/",
          "height": 204
        },
        "outputId": "3e7df748-68ca-4eca-fa94-10872715b28d"
      },
      "source": [
        "df2.head()"
      ],
      "execution_count": 322,
      "outputs": [
        {
          "output_type": "execute_result",
          "data": {
            "text/html": [
              "<div>\n",
              "<style scoped>\n",
              "    .dataframe tbody tr th:only-of-type {\n",
              "        vertical-align: middle;\n",
              "    }\n",
              "\n",
              "    .dataframe tbody tr th {\n",
              "        vertical-align: top;\n",
              "    }\n",
              "\n",
              "    .dataframe thead th {\n",
              "        text-align: right;\n",
              "    }\n",
              "</style>\n",
              "<table border=\"1\" class=\"dataframe\">\n",
              "  <thead>\n",
              "    <tr style=\"text-align: right;\">\n",
              "      <th></th>\n",
              "      <th>Predicted_Power</th>\n",
              "      <th>Hours</th>\n",
              "    </tr>\n",
              "  </thead>\n",
              "  <tbody>\n",
              "    <tr>\n",
              "      <th>0</th>\n",
              "      <td>1.274029</td>\n",
              "      <td>0</td>\n",
              "    </tr>\n",
              "    <tr>\n",
              "      <th>1</th>\n",
              "      <td>1.113847</td>\n",
              "      <td>1</td>\n",
              "    </tr>\n",
              "    <tr>\n",
              "      <th>2</th>\n",
              "      <td>1.651821</td>\n",
              "      <td>2</td>\n",
              "    </tr>\n",
              "    <tr>\n",
              "      <th>3</th>\n",
              "      <td>1.153827</td>\n",
              "      <td>3</td>\n",
              "    </tr>\n",
              "    <tr>\n",
              "      <th>4</th>\n",
              "      <td>1.134796</td>\n",
              "      <td>4</td>\n",
              "    </tr>\n",
              "  </tbody>\n",
              "</table>\n",
              "</div>"
            ],
            "text/plain": [
              "   Predicted_Power  Hours\n",
              "0         1.274029      0\n",
              "1         1.113847      1\n",
              "2         1.651821      2\n",
              "3         1.153827      3\n",
              "4         1.134796      4"
            ]
          },
          "metadata": {
            "tags": []
          },
          "execution_count": 322
        }
      ]
    },
    {
      "cell_type": "code",
      "metadata": {
        "id": "dXCCY8vXeB9m",
        "colab_type": "code",
        "colab": {
          "base_uri": "https://localhost:8080/",
          "height": 68
        },
        "outputId": "14bb4b91-c16f-4c5d-8f3b-46aaf9d4b2a2"
      },
      "source": [
        "df2.dtypes"
      ],
      "execution_count": 323,
      "outputs": [
        {
          "output_type": "execute_result",
          "data": {
            "text/plain": [
              "Predicted_Power    float64\n",
              "Hours                int64\n",
              "dtype: object"
            ]
          },
          "metadata": {
            "tags": []
          },
          "execution_count": 323
        }
      ]
    },
    {
      "cell_type": "code",
      "metadata": {
        "id": "rRbaIoLzeB56",
        "colab_type": "code",
        "colab": {}
      },
      "source": [
        ""
      ],
      "execution_count": 323,
      "outputs": []
    },
    {
      "cell_type": "code",
      "metadata": {
        "id": "hSs0Fv_NUD_b",
        "colab_type": "code",
        "colab": {
          "base_uri": "https://localhost:8080/",
          "height": 459
        },
        "outputId": "2de7f534-1a7f-4305-f9da-db579e32dee9"
      },
      "source": [
        "pred_data = df2['Predicted_Power']\n",
        "pred_data.index = df2['Hours']\n",
        "pred_data"
      ],
      "execution_count": 326,
      "outputs": [
        {
          "output_type": "execute_result",
          "data": {
            "text/plain": [
              "Hours\n",
              "0     1.274029\n",
              "1     1.113847\n",
              "2     1.651821\n",
              "3     1.153827\n",
              "4     1.134796\n",
              "5     0.085368\n",
              "6    -0.113726\n",
              "7    -0.450407\n",
              "8    -0.643556\n",
              "9    -0.695715\n",
              "10   -0.739140\n",
              "11   -0.778307\n",
              "12   -0.744747\n",
              "13   -0.732863\n",
              "14   -0.683404\n",
              "15    0.441320\n",
              "16    0.583458\n",
              "17   -0.184628\n",
              "18    0.275679\n",
              "19    0.498090\n",
              "20    0.049377\n",
              "21    1.121098\n",
              "22    1.248171\n",
              "23    0.640389\n",
              "Name: Predicted_Power, dtype: float64"
            ]
          },
          "metadata": {
            "tags": []
          },
          "execution_count": 326
        }
      ]
    },
    {
      "cell_type": "code",
      "metadata": {
        "id": "TNKZ1vCCUD6Q",
        "colab_type": "code",
        "colab": {}
      },
      "source": [
        ""
      ],
      "execution_count": 324,
      "outputs": []
    },
    {
      "cell_type": "code",
      "metadata": {
        "id": "fMKx9W_eBTFz",
        "colab_type": "code",
        "colab": {
          "base_uri": "https://localhost:8080/",
          "height": 405
        },
        "outputId": "fc7ff555-fa02-4ecb-ab1f-94de10811509"
      },
      "source": [
        "# Let's observe how this predicted data looks across time.\n",
        "\n",
        "pred_data.plot(subplots=True)"
      ],
      "execution_count": 325,
      "outputs": [
        {
          "output_type": "execute_result",
          "data": {
            "text/plain": [
              "array([<matplotlib.axes._subplots.AxesSubplot object at 0x7fccd37dc198>],\n",
              "      dtype=object)"
            ]
          },
          "metadata": {
            "tags": []
          },
          "execution_count": 325
        },
        {
          "output_type": "display_data",
          "data": {
            "image/png": "[encoded data removed]",
            "text/plain": [
              "<Figure size 576x432 with 1 Axes>"
            ]
          },
          "metadata": {
            "tags": []
          }
        }
      ]
    },
    {
      "cell_type": "code",
      "metadata": {
        "id": "juNnvdLqBTYS",
        "colab_type": "code",
        "colab": {}
      },
      "source": [
        "# These predictions are for next 24 hours after given data\n",
        "# Data is given at last 3-july-2020, 7hrs\n",
        "# Predictions are accordingly for next 24 hours i.e. 3-july-2020, 8hrs, to 4-july-2020, 7hrs"
      ],
      "execution_count": null,
      "outputs": []
    },
    {
      "cell_type": "code",
      "metadata": {
        "id": "givmh-SeBTm1",
        "colab_type": "code",
        "colab": {}
      },
      "source": [
        ""
      ],
      "execution_count": null,
      "outputs": []
    },
    {
      "cell_type": "code",
      "metadata": {
        "id": "lYfqhD9u-yf2",
        "colab_type": "code",
        "colab": {}
      },
      "source": [
        ""
      ],
      "execution_count": null,
      "outputs": []
    },
    {
      "cell_type": "code",
      "metadata": {
        "id": "BVW8GFRz-ysR",
        "colab_type": "code",
        "colab": {}
      },
      "source": [
        ""
      ],
      "execution_count": null,
      "outputs": []
    },
    {
      "cell_type": "code",
      "metadata": {
        "id": "Ldq15M-b-yoD",
        "colab_type": "code",
        "colab": {}
      },
      "source": [
        ""
      ],
      "execution_count": null,
      "outputs": []
    },
    {
      "cell_type": "code",
      "metadata": {
        "id": "FbB-Rdwl-yQU",
        "colab_type": "code",
        "colab": {}
      },
      "source": [
        ""
      ],
      "execution_count": null,
      "outputs": []
    },
    {
      "cell_type": "code",
      "metadata": {
        "id": "9c8md2UV-yD4",
        "colab_type": "code",
        "colab": {}
      },
      "source": [
        ""
      ],
      "execution_count": null,
      "outputs": []
    },
    {
      "cell_type": "code",
      "metadata": {
        "id": "hAkHqUu8-x-V",
        "colab_type": "code",
        "colab": {}
      },
      "source": [
        ""
      ],
      "execution_count": null,
      "outputs": []
    },
    {
      "cell_type": "code",
      "metadata": {
        "id": "4ZMhCeaj-xn4",
        "colab_type": "code",
        "colab": {}
      },
      "source": [
        ""
      ],
      "execution_count": null,
      "outputs": []
    },
    {
      "cell_type": "code",
      "metadata": {
        "id": "fADL1dv5-xTn",
        "colab_type": "code",
        "colab": {}
      },
      "source": [
        ""
      ],
      "execution_count": null,
      "outputs": []
    },
    {
      "cell_type": "code",
      "metadata": {
        "id": "CTzYzZp2-xMr",
        "colab_type": "code",
        "colab": {}
      },
      "source": [
        ""
      ],
      "execution_count": null,
      "outputs": []
    },
    {
      "cell_type": "code",
      "metadata": {
        "id": "yG7Hsvpe-w4L",
        "colab_type": "code",
        "colab": {}
      },
      "source": [
        ""
      ],
      "execution_count": null,
      "outputs": []
    },
    {
      "cell_type": "code",
      "metadata": {
        "id": "IyFiQH9S-w08",
        "colab_type": "code",
        "colab": {}
      },
      "source": [
        ""
      ],
      "execution_count": null,
      "outputs": []
    },
    {
      "cell_type": "code",
      "metadata": {
        "id": "f9NZJhFt-wvl",
        "colab_type": "code",
        "colab": {}
      },
      "source": [
        ""
      ],
      "execution_count": null,
      "outputs": []
    },
    {
      "cell_type": "code",
      "metadata": {
        "id": "CtfK3QjbdxoH",
        "colab_type": "code",
        "colab": {}
      },
      "source": [
        ""
      ],
      "execution_count": null,
      "outputs": []
    },
    {
      "cell_type": "code",
      "metadata": {
        "id": "XTyAjmVKdxYU",
        "colab_type": "code",
        "colab": {}
      },
      "source": [
        ""
      ],
      "execution_count": null,
      "outputs": []
    },
    {
      "cell_type": "code",
      "metadata": {
        "id": "t7szYjsYnnWD",
        "colab_type": "code",
        "colab": {}
      },
      "source": [
        ""
      ],
      "execution_count": null,
      "outputs": []
    },
    {
      "cell_type": "code",
      "metadata": {
        "id": "D0-i80vGnneL",
        "colab_type": "code",
        "colab": {}
      },
      "source": [
        ""
      ],
      "execution_count": null,
      "outputs": []
    },
    {
      "cell_type": "code",
      "metadata": {
        "id": "WQNnrYounnba",
        "colab_type": "code",
        "colab": {}
      },
      "source": [
        ""
      ],
      "execution_count": null,
      "outputs": []
    },
    {
      "cell_type": "code",
      "metadata": {
        "id": "Iz120GjVnnST",
        "colab_type": "code",
        "colab": {}
      },
      "source": [
        ""
      ],
      "execution_count": null,
      "outputs": []
    }
  ]
}